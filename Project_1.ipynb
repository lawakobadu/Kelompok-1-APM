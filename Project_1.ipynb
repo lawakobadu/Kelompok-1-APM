{
  "nbformat": 4,
  "nbformat_minor": 0,
  "metadata": {
    "colab": {
      "name": "Project 1.ipynb",
      "provenance": [],
      "collapsed_sections": [],
      "authorship_tag": "ABX9TyOA8autbqe/89HaYTOiXQ00",
      "include_colab_link": true
    },
    "kernelspec": {
      "name": "python3",
      "display_name": "Python 3"
    },
    "language_info": {
      "name": "python"
    }
  },
  "cells": [
    {
      "cell_type": "markdown",
      "metadata": {
        "id": "view-in-github",
        "colab_type": "text"
      },
      "source": [
        "<a href=\"https://colab.research.google.com/github/lawakobadu/Kelompok-1-APM/blob/main/Project_1.ipynb\" target=\"_parent\"><img src=\"https://colab.research.google.com/assets/colab-badge.svg\" alt=\"Open In Colab\"/></a>"
      ]
    },
    {
      "cell_type": "code",
      "source": [
        "import pandas as pd\n",
        "import numpy as np\n",
        "data = pd.read_csv('WorldPop.csv')\n",
        "data"
      ],
      "metadata": {
        "id": "9dyv-Phqk5NO",
        "colab": {
          "base_uri": "https://localhost:8080/",
          "height": 540
        },
        "outputId": "7b586a46-2b6d-403c-89ed-e8557185b2fc"
      },
      "execution_count": null,
      "outputs": [
        {
          "output_type": "execute_result",
          "data": {
            "text/html": [
              "\n",
              "  <div id=\"df-ec0986c9-4acf-470c-b3db-cdec907d7fb6\">\n",
              "    <div class=\"colab-df-container\">\n",
              "      <div>\n",
              "<style scoped>\n",
              "    .dataframe tbody tr th:only-of-type {\n",
              "        vertical-align: middle;\n",
              "    }\n",
              "\n",
              "    .dataframe tbody tr th {\n",
              "        vertical-align: top;\n",
              "    }\n",
              "\n",
              "    .dataframe thead th {\n",
              "        text-align: right;\n",
              "    }\n",
              "</style>\n",
              "<table border=\"1\" class=\"dataframe\">\n",
              "  <thead>\n",
              "    <tr style=\"text-align: right;\">\n",
              "      <th></th>\n",
              "      <th>cca2</th>\n",
              "      <th>name</th>\n",
              "      <th>pop2021</th>\n",
              "      <th>pop2020</th>\n",
              "      <th>pop2050</th>\n",
              "      <th>pop2030</th>\n",
              "      <th>pop2019</th>\n",
              "      <th>pop2015</th>\n",
              "      <th>pop2010</th>\n",
              "      <th>pop2000</th>\n",
              "      <th>pop1990</th>\n",
              "      <th>pop1980</th>\n",
              "      <th>pop1970</th>\n",
              "      <th>area</th>\n",
              "      <th>Density</th>\n",
              "      <th>GrowthRate</th>\n",
              "      <th>WorldPercentage</th>\n",
              "      <th>rank</th>\n",
              "    </tr>\n",
              "  </thead>\n",
              "  <tbody>\n",
              "    <tr>\n",
              "      <th>0</th>\n",
              "      <td>CN</td>\n",
              "      <td>China</td>\n",
              "      <td>1444216.107</td>\n",
              "      <td>1439323.776</td>\n",
              "      <td>1402405.170</td>\n",
              "      <td>1464340.159</td>\n",
              "      <td>1433783.686</td>\n",
              "      <td>1406847.870</td>\n",
              "      <td>1368810.615</td>\n",
              "      <td>1290550.765</td>\n",
              "      <td>1176883.674</td>\n",
              "      <td>1000089.235</td>\n",
              "      <td>827601.394</td>\n",
              "      <td>9706961</td>\n",
              "      <td>148.7815</td>\n",
              "      <td>1.0034</td>\n",
              "      <td>0.1834</td>\n",
              "      <td>1</td>\n",
              "    </tr>\n",
              "    <tr>\n",
              "      <th>1</th>\n",
              "      <td>IN</td>\n",
              "      <td>India</td>\n",
              "      <td>1393409.038</td>\n",
              "      <td>1380004.385</td>\n",
              "      <td>1639176.033</td>\n",
              "      <td>1503642.322</td>\n",
              "      <td>1366417.754</td>\n",
              "      <td>1310152.403</td>\n",
              "      <td>1234281.170</td>\n",
              "      <td>1056575.549</td>\n",
              "      <td>873277.798</td>\n",
              "      <td>698952.844</td>\n",
              "      <td>555189.792</td>\n",
              "      <td>3287590</td>\n",
              "      <td>423.8391</td>\n",
              "      <td>1.0097</td>\n",
              "      <td>0.1769</td>\n",
              "      <td>2</td>\n",
              "    </tr>\n",
              "    <tr>\n",
              "      <th>2</th>\n",
              "      <td>US</td>\n",
              "      <td>United States</td>\n",
              "      <td>332915.073</td>\n",
              "      <td>331002.651</td>\n",
              "      <td>379419.102</td>\n",
              "      <td>349641.876</td>\n",
              "      <td>329064.917</td>\n",
              "      <td>320878.310</td>\n",
              "      <td>309011.475</td>\n",
              "      <td>281710.909</td>\n",
              "      <td>252120.309</td>\n",
              "      <td>229476.354</td>\n",
              "      <td>209513.341</td>\n",
              "      <td>9372610</td>\n",
              "      <td>35.5200</td>\n",
              "      <td>1.0058</td>\n",
              "      <td>0.0423</td>\n",
              "      <td>3</td>\n",
              "    </tr>\n",
              "    <tr>\n",
              "      <th>3</th>\n",
              "      <td>ID</td>\n",
              "      <td>Indonesia</td>\n",
              "      <td>276361.783</td>\n",
              "      <td>273523.615</td>\n",
              "      <td>330904.664</td>\n",
              "      <td>299198.430</td>\n",
              "      <td>270625.568</td>\n",
              "      <td>258383.256</td>\n",
              "      <td>241834.215</td>\n",
              "      <td>211513.823</td>\n",
              "      <td>181413.402</td>\n",
              "      <td>147447.836</td>\n",
              "      <td>114793.178</td>\n",
              "      <td>1904569</td>\n",
              "      <td>145.1046</td>\n",
              "      <td>1.0104</td>\n",
              "      <td>0.0351</td>\n",
              "      <td>4</td>\n",
              "    </tr>\n",
              "    <tr>\n",
              "      <th>4</th>\n",
              "      <td>PK</td>\n",
              "      <td>Pakistan</td>\n",
              "      <td>225199.937</td>\n",
              "      <td>220892.340</td>\n",
              "      <td>338013.196</td>\n",
              "      <td>262958.794</td>\n",
              "      <td>216565.318</td>\n",
              "      <td>199426.964</td>\n",
              "      <td>179424.641</td>\n",
              "      <td>142343.578</td>\n",
              "      <td>107647.921</td>\n",
              "      <td>78054.343</td>\n",
              "      <td>58142.060</td>\n",
              "      <td>881912</td>\n",
              "      <td>255.3542</td>\n",
              "      <td>1.0195</td>\n",
              "      <td>0.0286</td>\n",
              "      <td>5</td>\n",
              "    </tr>\n",
              "    <tr>\n",
              "      <th>...</th>\n",
              "      <td>...</td>\n",
              "      <td>...</td>\n",
              "      <td>...</td>\n",
              "      <td>...</td>\n",
              "      <td>...</td>\n",
              "      <td>...</td>\n",
              "      <td>...</td>\n",
              "      <td>...</td>\n",
              "      <td>...</td>\n",
              "      <td>...</td>\n",
              "      <td>...</td>\n",
              "      <td>...</td>\n",
              "      <td>...</td>\n",
              "      <td>...</td>\n",
              "      <td>...</td>\n",
              "      <td>...</td>\n",
              "      <td>...</td>\n",
              "      <td>...</td>\n",
              "    </tr>\n",
              "    <tr>\n",
              "      <th>227</th>\n",
              "      <td>MS</td>\n",
              "      <td>Montserrat</td>\n",
              "      <td>4.977</td>\n",
              "      <td>4.992</td>\n",
              "      <td>4.153</td>\n",
              "      <td>4.763</td>\n",
              "      <td>4.989</td>\n",
              "      <td>4.967</td>\n",
              "      <td>4.899</td>\n",
              "      <td>4.929</td>\n",
              "      <td>10.615</td>\n",
              "      <td>11.607</td>\n",
              "      <td>11.534</td>\n",
              "      <td>102</td>\n",
              "      <td>48.7941</td>\n",
              "      <td>0.9970</td>\n",
              "      <td>0.0000</td>\n",
              "      <td>228</td>\n",
              "    </tr>\n",
              "    <tr>\n",
              "      <th>228</th>\n",
              "      <td>FK</td>\n",
              "      <td>Falkland Islands</td>\n",
              "      <td>3.533</td>\n",
              "      <td>3.480</td>\n",
              "      <td>3.243</td>\n",
              "      <td>3.436</td>\n",
              "      <td>3.377</td>\n",
              "      <td>2.834</td>\n",
              "      <td>2.901</td>\n",
              "      <td>2.892</td>\n",
              "      <td>1.982</td>\n",
              "      <td>1.854</td>\n",
              "      <td>1.992</td>\n",
              "      <td>12173</td>\n",
              "      <td>0.2902</td>\n",
              "      <td>1.0152</td>\n",
              "      <td>0.0000</td>\n",
              "      <td>229</td>\n",
              "    </tr>\n",
              "    <tr>\n",
              "      <th>229</th>\n",
              "      <td>NU</td>\n",
              "      <td>Niue</td>\n",
              "      <td>1.619</td>\n",
              "      <td>1.626</td>\n",
              "      <td>1.778</td>\n",
              "      <td>1.664</td>\n",
              "      <td>1.615</td>\n",
              "      <td>1.619</td>\n",
              "      <td>1.618</td>\n",
              "      <td>1.899</td>\n",
              "      <td>2.329</td>\n",
              "      <td>3.404</td>\n",
              "      <td>5.135</td>\n",
              "      <td>260</td>\n",
              "      <td>6.2269</td>\n",
              "      <td>0.9957</td>\n",
              "      <td>0.0000</td>\n",
              "      <td>230</td>\n",
              "    </tr>\n",
              "    <tr>\n",
              "      <th>230</th>\n",
              "      <td>TK</td>\n",
              "      <td>Tokelau</td>\n",
              "      <td>1.373</td>\n",
              "      <td>1.357</td>\n",
              "      <td>1.565</td>\n",
              "      <td>1.448</td>\n",
              "      <td>1.340</td>\n",
              "      <td>1.252</td>\n",
              "      <td>1.140</td>\n",
              "      <td>1.554</td>\n",
              "      <td>1.608</td>\n",
              "      <td>1.553</td>\n",
              "      <td>1.621</td>\n",
              "      <td>12</td>\n",
              "      <td>114.4167</td>\n",
              "      <td>1.0118</td>\n",
              "      <td>0.0000</td>\n",
              "      <td>231</td>\n",
              "    </tr>\n",
              "    <tr>\n",
              "      <th>231</th>\n",
              "      <td>VA</td>\n",
              "      <td>Vatican City</td>\n",
              "      <td>0.800</td>\n",
              "      <td>0.801</td>\n",
              "      <td>0.814</td>\n",
              "      <td>0.795</td>\n",
              "      <td>0.799</td>\n",
              "      <td>0.803</td>\n",
              "      <td>0.794</td>\n",
              "      <td>0.785</td>\n",
              "      <td>0.768</td>\n",
              "      <td>0.724</td>\n",
              "      <td>0.644</td>\n",
              "      <td>1</td>\n",
              "      <td>800.0000</td>\n",
              "      <td>0.9988</td>\n",
              "      <td>0.0000</td>\n",
              "      <td>232</td>\n",
              "    </tr>\n",
              "  </tbody>\n",
              "</table>\n",
              "<p>232 rows × 18 columns</p>\n",
              "</div>\n",
              "      <button class=\"colab-df-convert\" onclick=\"convertToInteractive('df-ec0986c9-4acf-470c-b3db-cdec907d7fb6')\"\n",
              "              title=\"Convert this dataframe to an interactive table.\"\n",
              "              style=\"display:none;\">\n",
              "        \n",
              "  <svg xmlns=\"http://www.w3.org/2000/svg\" height=\"24px\"viewBox=\"0 0 24 24\"\n",
              "       width=\"24px\">\n",
              "    <path d=\"M0 0h24v24H0V0z\" fill=\"none\"/>\n",
              "    <path d=\"M18.56 5.44l.94 2.06.94-2.06 2.06-.94-2.06-.94-.94-2.06-.94 2.06-2.06.94zm-11 1L8.5 8.5l.94-2.06 2.06-.94-2.06-.94L8.5 2.5l-.94 2.06-2.06.94zm10 10l.94 2.06.94-2.06 2.06-.94-2.06-.94-.94-2.06-.94 2.06-2.06.94z\"/><path d=\"M17.41 7.96l-1.37-1.37c-.4-.4-.92-.59-1.43-.59-.52 0-1.04.2-1.43.59L10.3 9.45l-7.72 7.72c-.78.78-.78 2.05 0 2.83L4 21.41c.39.39.9.59 1.41.59.51 0 1.02-.2 1.41-.59l7.78-7.78 2.81-2.81c.8-.78.8-2.07 0-2.86zM5.41 20L4 18.59l7.72-7.72 1.47 1.35L5.41 20z\"/>\n",
              "  </svg>\n",
              "      </button>\n",
              "      \n",
              "  <style>\n",
              "    .colab-df-container {\n",
              "      display:flex;\n",
              "      flex-wrap:wrap;\n",
              "      gap: 12px;\n",
              "    }\n",
              "\n",
              "    .colab-df-convert {\n",
              "      background-color: #E8F0FE;\n",
              "      border: none;\n",
              "      border-radius: 50%;\n",
              "      cursor: pointer;\n",
              "      display: none;\n",
              "      fill: #1967D2;\n",
              "      height: 32px;\n",
              "      padding: 0 0 0 0;\n",
              "      width: 32px;\n",
              "    }\n",
              "\n",
              "    .colab-df-convert:hover {\n",
              "      background-color: #E2EBFA;\n",
              "      box-shadow: 0px 1px 2px rgba(60, 64, 67, 0.3), 0px 1px 3px 1px rgba(60, 64, 67, 0.15);\n",
              "      fill: #174EA6;\n",
              "    }\n",
              "\n",
              "    [theme=dark] .colab-df-convert {\n",
              "      background-color: #3B4455;\n",
              "      fill: #D2E3FC;\n",
              "    }\n",
              "\n",
              "    [theme=dark] .colab-df-convert:hover {\n",
              "      background-color: #434B5C;\n",
              "      box-shadow: 0px 1px 3px 1px rgba(0, 0, 0, 0.15);\n",
              "      filter: drop-shadow(0px 1px 2px rgba(0, 0, 0, 0.3));\n",
              "      fill: #FFFFFF;\n",
              "    }\n",
              "  </style>\n",
              "\n",
              "      <script>\n",
              "        const buttonEl =\n",
              "          document.querySelector('#df-ec0986c9-4acf-470c-b3db-cdec907d7fb6 button.colab-df-convert');\n",
              "        buttonEl.style.display =\n",
              "          google.colab.kernel.accessAllowed ? 'block' : 'none';\n",
              "\n",
              "        async function convertToInteractive(key) {\n",
              "          const element = document.querySelector('#df-ec0986c9-4acf-470c-b3db-cdec907d7fb6');\n",
              "          const dataTable =\n",
              "            await google.colab.kernel.invokeFunction('convertToInteractive',\n",
              "                                                     [key], {});\n",
              "          if (!dataTable) return;\n",
              "\n",
              "          const docLinkHtml = 'Like what you see? Visit the ' +\n",
              "            '<a target=\"_blank\" href=https://colab.research.google.com/notebooks/data_table.ipynb>data table notebook</a>'\n",
              "            + ' to learn more about interactive tables.';\n",
              "          element.innerHTML = '';\n",
              "          dataTable['output_type'] = 'display_data';\n",
              "          await google.colab.output.renderOutput(dataTable, element);\n",
              "          const docLink = document.createElement('div');\n",
              "          docLink.innerHTML = docLinkHtml;\n",
              "          element.appendChild(docLink);\n",
              "        }\n",
              "      </script>\n",
              "    </div>\n",
              "  </div>\n",
              "  "
            ],
            "text/plain": [
              "    cca2              name      pop2021  ...  GrowthRate  WorldPercentage  rank\n",
              "0     CN             China  1444216.107  ...      1.0034           0.1834     1\n",
              "1     IN             India  1393409.038  ...      1.0097           0.1769     2\n",
              "2     US     United States   332915.073  ...      1.0058           0.0423     3\n",
              "3     ID         Indonesia   276361.783  ...      1.0104           0.0351     4\n",
              "4     PK          Pakistan   225199.937  ...      1.0195           0.0286     5\n",
              "..   ...               ...          ...  ...         ...              ...   ...\n",
              "227   MS        Montserrat        4.977  ...      0.9970           0.0000   228\n",
              "228   FK  Falkland Islands        3.533  ...      1.0152           0.0000   229\n",
              "229   NU              Niue        1.619  ...      0.9957           0.0000   230\n",
              "230   TK           Tokelau        1.373  ...      1.0118           0.0000   231\n",
              "231   VA      Vatican City        0.800  ...      0.9988           0.0000   232\n",
              "\n",
              "[232 rows x 18 columns]"
            ]
          },
          "metadata": {},
          "execution_count": 1
        }
      ]
    },
    {
      "cell_type": "code",
      "source": [
        "data2 = np.array([data])\n",
        "data2"
      ],
      "metadata": {
        "id": "DqxXRJ-Dzgnh",
        "colab": {
          "base_uri": "https://localhost:8080/"
        },
        "outputId": "de53949e-e25a-42a5-c41b-8a49c40b8d1f"
      },
      "execution_count": null,
      "outputs": [
        {
          "output_type": "execute_result",
          "data": {
            "text/plain": [
              "array([[['CN', 'China', 1444216.107, ..., 1.0034, 0.1834, 1],\n",
              "        ['IN', 'India', 1393409.038, ..., 1.0097, 0.1769, 2],\n",
              "        ['US', 'United States', 332915.073, ..., 1.0058, 0.0423, 3],\n",
              "        ...,\n",
              "        ['NU', 'Niue', 1.619, ..., 0.9957, 0.0, 230],\n",
              "        ['TK', 'Tokelau', 1.373, ..., 1.0118, 0.0, 231],\n",
              "        ['VA', 'Vatican City', 0.8, ..., 0.9988, 0.0, 232]]], dtype=object)"
            ]
          },
          "metadata": {},
          "execution_count": 5
        }
      ]
    },
    {
      "cell_type": "code",
      "source": [
        "import matplotlib.pyplot as plt\n",
        "\n",
        "plt.figure(figsize=(8,5))\n",
        "plt.bar(data.head(10)['name'], data.head(10)['pop2021'])"
      ],
      "metadata": {
        "colab": {
          "base_uri": "https://localhost:8080/",
          "height": 348
        },
        "id": "0plcK_OvRnBr",
        "outputId": "07104139-35d8-46ab-bb80-f8c3d3a63a93"
      },
      "execution_count": null,
      "outputs": [
        {
          "output_type": "execute_result",
          "data": {
            "text/plain": [
              "<BarContainer object of 10 artists>"
            ]
          },
          "metadata": {},
          "execution_count": 9
        },
        {
          "output_type": "display_data",
          "data": {
            "image/png": "[encoded data removed]",
            "text/plain": [
              "<Figure size 576x360 with 1 Axes>"
            ]
          },
          "metadata": {
            "needs_background": "light"
          }
        }
      ]
    },
    {
      "cell_type": "code",
      "source": [
        "x = np.array(data.head(10)['area'])\n",
        "y = np.array(data.head(10)['pop2021'])\n",
        "\n",
        "print(f'x: {x}')\n",
        "print(f'y: {y}')"
      ],
      "metadata": {
        "colab": {
          "base_uri": "https://localhost:8080/"
        },
        "id": "MHE_IqRrT8zX",
        "outputId": "41afc6bb-2773-4c82-a3dc-9a4793180af9"
      },
      "execution_count": null,
      "outputs": [
        {
          "output_type": "stream",
          "name": "stdout",
          "text": [
            "x: [ 9706961  3287590  9372610  1904569   881912  8515767   923768   147570\n",
            " 17098242  1964375]\n",
            "y: [1444216.107 1393409.038  332915.073  276361.783  225199.937  213993.437\n",
            "  211400.708  166303.498  145912.025  130262.216]\n"
          ]
        }
      ]
    },
    {
      "cell_type": "code",
      "source": [
        "x = x.reshape(-1,1)\n",
        "x.shape\n",
        "x"
      ],
      "metadata": {
        "colab": {
          "base_uri": "https://localhost:8080/"
        },
        "id": "QlqVHoNjWWLx",
        "outputId": "22dbb2ec-f855-4b9b-91a4-2801070c86fc"
      },
      "execution_count": null,
      "outputs": [
        {
          "output_type": "execute_result",
          "data": {
            "text/plain": [
              "array([[ 9706961],\n",
              "       [ 3287590],\n",
              "       [ 9372610],\n",
              "       [ 1904569],\n",
              "       [  881912],\n",
              "       [ 8515767],\n",
              "       [  923768],\n",
              "       [  147570],\n",
              "       [17098242],\n",
              "       [ 1964375]])"
            ]
          },
          "metadata": {},
          "execution_count": 13
        }
      ]
    },
    {
      "cell_type": "code",
      "source": [
        "from sklearn.linear_model import LinearRegression\n",
        "\n",
        "model = LinearRegression()\n",
        "model.fit(x,y)"
      ],
      "metadata": {
        "colab": {
          "base_uri": "https://localhost:8080/"
        },
        "id": "Z5ecih7SWiQk",
        "outputId": "dfaab24a-5d46-497b-b82b-82e7144dc0ae"
      },
      "execution_count": null,
      "outputs": [
        {
          "output_type": "execute_result",
          "data": {
            "text/plain": [
              "LinearRegression()"
            ]
          },
          "metadata": {},
          "execution_count": 16
        }
      ]
    },
    {
      "cell_type": "code",
      "source": [
        "x_vis = np.array(data.head(10)['pop2021']).reshape(-1,1)\n",
        "y_vis = model.predict(x_vis)"
      ],
      "metadata": {
        "id": "SvX6syYsXET9"
      },
      "execution_count": null,
      "outputs": []
    }
  ]
}